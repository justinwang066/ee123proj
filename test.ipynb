{
 "cells": [
  {
   "cell_type": "code",
   "execution_count": 1,
   "id": "79759379",
   "metadata": {},
   "outputs": [
    {
     "name": "stdout",
     "output_type": "stream",
     "text": [
      "Intel MKL WARNING: Support of Intel(R) Streaming SIMD Extensions 4.2 (Intel(R) SSE4.2) enabled only processors has been deprecated. Intel oneAPI Math Kernel Library 2025.0 will require Intel(R) Advanced Vector Extensions (Intel(R) AVX) instructions.\n",
      "Intel MKL WARNING: Support of Intel(R) Streaming SIMD Extensions 4.2 (Intel(R) SSE4.2) enabled only processors has been deprecated. Intel oneAPI Math Kernel Library 2025.0 will require Intel(R) Advanced Vector Extensions (Intel(R) AVX) instructions.\n"
     ]
    }
   ],
   "source": [
    "import pandas as pd\n",
    "import pywt;"
   ]
  },
  {
   "cell_type": "markdown",
   "id": "3e33812d",
   "metadata": {},
   "source": [
    "# Data Preprocessing"
   ]
  },
  {
   "cell_type": "markdown",
   "id": "3759f555",
   "metadata": {},
   "source": [
    "- Create separate metadata dataframe containing information about each case.<br>\n",
    "- Create df containing all measurements for each case."
   ]
  },
  {
   "cell_type": "code",
   "execution_count": 2,
   "id": "abde1ba3",
   "metadata": {},
   "outputs": [
    {
     "data": {
      "text/html": [
       "<div>\n",
       "<style scoped>\n",
       "    .dataframe tbody tr th:only-of-type {\n",
       "        vertical-align: middle;\n",
       "    }\n",
       "\n",
       "    .dataframe tbody tr th {\n",
       "        vertical-align: top;\n",
       "    }\n",
       "\n",
       "    .dataframe thead th {\n",
       "        text-align: right;\n",
       "    }\n",
       "</style>\n",
       "<table border=\"1\" class=\"dataframe\">\n",
       "  <thead>\n",
       "    <tr style=\"text-align: right;\">\n",
       "      <th></th>\n",
       "      <th>smcAC_case001</th>\n",
       "      <th>smcDC_case001</th>\n",
       "      <th>vib_table_case001</th>\n",
       "      <th>vib_spindle_case001</th>\n",
       "      <th>AE_table_case001</th>\n",
       "      <th>AE_spindle_case001</th>\n",
       "      <th>smcAC_case002</th>\n",
       "      <th>smcDC_case002</th>\n",
       "      <th>vib_table_case002</th>\n",
       "      <th>vib_spindle_case002</th>\n",
       "      <th>...</th>\n",
       "      <th>AE_table_case164</th>\n",
       "      <th>AE_spindle_case164</th>\n",
       "      <th>smcAC_case165</th>\n",
       "      <th>smcDC_case165</th>\n",
       "      <th>vib_table_case165</th>\n",
       "      <th>vib_spindle_case165</th>\n",
       "      <th>AE_table_case165</th>\n",
       "      <th>AE_spindle_case165</th>\n",
       "      <th>smcAC_case166</th>\n",
       "      <th>smcDC_case166</th>\n",
       "    </tr>\n",
       "  </thead>\n",
       "  <tbody>\n",
       "    <tr>\n",
       "      <th>0</th>\n",
       "      <td>-0.017090</td>\n",
       "      <td>0.625000</td>\n",
       "      <td>0.078125</td>\n",
       "      <td>0.314941</td>\n",
       "      <td>0.087280</td>\n",
       "      <td>0.103760</td>\n",
       "      <td>0.307617</td>\n",
       "      <td>0.668945</td>\n",
       "      <td>0.075684</td>\n",
       "      <td>0.301514</td>\n",
       "      <td>...</td>\n",
       "      <td>0.114746</td>\n",
       "      <td>0.139771</td>\n",
       "      <td>0.244141</td>\n",
       "      <td>1.328125</td>\n",
       "      <td>0.063477</td>\n",
       "      <td>0.290527</td>\n",
       "      <td>0.101318</td>\n",
       "      <td>0.117798</td>\n",
       "      <td>-0.205078</td>\n",
       "      <td>1.381836</td>\n",
       "    </tr>\n",
       "    <tr>\n",
       "      <th>1</th>\n",
       "      <td>0.263672</td>\n",
       "      <td>0.810547</td>\n",
       "      <td>0.085449</td>\n",
       "      <td>0.301514</td>\n",
       "      <td>0.098267</td>\n",
       "      <td>0.123291</td>\n",
       "      <td>0.312500</td>\n",
       "      <td>0.678711</td>\n",
       "      <td>0.080566</td>\n",
       "      <td>0.308838</td>\n",
       "      <td>...</td>\n",
       "      <td>0.095215</td>\n",
       "      <td>0.112305</td>\n",
       "      <td>0.244141</td>\n",
       "      <td>1.333008</td>\n",
       "      <td>0.058594</td>\n",
       "      <td>0.279541</td>\n",
       "      <td>0.121460</td>\n",
       "      <td>0.140381</td>\n",
       "      <td>-0.239258</td>\n",
       "      <td>1.386719</td>\n",
       "    </tr>\n",
       "    <tr>\n",
       "      <th>2</th>\n",
       "      <td>0.207520</td>\n",
       "      <td>0.781250</td>\n",
       "      <td>0.078125</td>\n",
       "      <td>0.303955</td>\n",
       "      <td>0.092163</td>\n",
       "      <td>0.104980</td>\n",
       "      <td>0.195312</td>\n",
       "      <td>0.859375</td>\n",
       "      <td>0.078125</td>\n",
       "      <td>0.299072</td>\n",
       "      <td>...</td>\n",
       "      <td>0.101929</td>\n",
       "      <td>0.120239</td>\n",
       "      <td>0.205078</td>\n",
       "      <td>1.333008</td>\n",
       "      <td>0.058594</td>\n",
       "      <td>0.285645</td>\n",
       "      <td>0.122070</td>\n",
       "      <td>0.142822</td>\n",
       "      <td>-0.156250</td>\n",
       "      <td>1.386719</td>\n",
       "    </tr>\n",
       "    <tr>\n",
       "      <th>3</th>\n",
       "      <td>0.302734</td>\n",
       "      <td>0.849609</td>\n",
       "      <td>0.073242</td>\n",
       "      <td>0.300293</td>\n",
       "      <td>0.095215</td>\n",
       "      <td>0.111084</td>\n",
       "      <td>0.187988</td>\n",
       "      <td>1.123047</td>\n",
       "      <td>0.080566</td>\n",
       "      <td>0.306396</td>\n",
       "      <td>...</td>\n",
       "      <td>0.098877</td>\n",
       "      <td>0.118408</td>\n",
       "      <td>0.156250</td>\n",
       "      <td>1.333008</td>\n",
       "      <td>0.063477</td>\n",
       "      <td>0.286865</td>\n",
       "      <td>0.119019</td>\n",
       "      <td>0.139160</td>\n",
       "      <td>0.126953</td>\n",
       "      <td>1.381836</td>\n",
       "    </tr>\n",
       "    <tr>\n",
       "      <th>4</th>\n",
       "      <td>0.239258</td>\n",
       "      <td>1.098633</td>\n",
       "      <td>0.083008</td>\n",
       "      <td>0.299072</td>\n",
       "      <td>0.083008</td>\n",
       "      <td>0.092163</td>\n",
       "      <td>-0.009766</td>\n",
       "      <td>1.166992</td>\n",
       "      <td>0.075684</td>\n",
       "      <td>0.319824</td>\n",
       "      <td>...</td>\n",
       "      <td>0.098877</td>\n",
       "      <td>0.120239</td>\n",
       "      <td>0.048828</td>\n",
       "      <td>1.337891</td>\n",
       "      <td>0.058594</td>\n",
       "      <td>0.286865</td>\n",
       "      <td>0.114136</td>\n",
       "      <td>0.132446</td>\n",
       "      <td>0.200195</td>\n",
       "      <td>1.376953</td>\n",
       "    </tr>\n",
       "  </tbody>\n",
       "</table>\n",
       "<p>5 rows × 992 columns</p>\n",
       "</div>"
      ],
      "text/plain": [
       "   smcAC_case001  smcDC_case001  vib_table_case001  vib_spindle_case001  \\\n",
       "0      -0.017090       0.625000           0.078125             0.314941   \n",
       "1       0.263672       0.810547           0.085449             0.301514   \n",
       "2       0.207520       0.781250           0.078125             0.303955   \n",
       "3       0.302734       0.849609           0.073242             0.300293   \n",
       "4       0.239258       1.098633           0.083008             0.299072   \n",
       "\n",
       "   AE_table_case001  AE_spindle_case001  smcAC_case002  smcDC_case002  \\\n",
       "0          0.087280            0.103760       0.307617       0.668945   \n",
       "1          0.098267            0.123291       0.312500       0.678711   \n",
       "2          0.092163            0.104980       0.195312       0.859375   \n",
       "3          0.095215            0.111084       0.187988       1.123047   \n",
       "4          0.083008            0.092163      -0.009766       1.166992   \n",
       "\n",
       "   vib_table_case002  vib_spindle_case002  ...  AE_table_case164  \\\n",
       "0           0.075684             0.301514  ...          0.114746   \n",
       "1           0.080566             0.308838  ...          0.095215   \n",
       "2           0.078125             0.299072  ...          0.101929   \n",
       "3           0.080566             0.306396  ...          0.098877   \n",
       "4           0.075684             0.319824  ...          0.098877   \n",
       "\n",
       "   AE_spindle_case164  smcAC_case165  smcDC_case165  vib_table_case165  \\\n",
       "0            0.139771       0.244141       1.328125           0.063477   \n",
       "1            0.112305       0.244141       1.333008           0.058594   \n",
       "2            0.120239       0.205078       1.333008           0.058594   \n",
       "3            0.118408       0.156250       1.333008           0.063477   \n",
       "4            0.120239       0.048828       1.337891           0.058594   \n",
       "\n",
       "   vib_spindle_case165  AE_table_case165  AE_spindle_case165  smcAC_case166  \\\n",
       "0             0.290527          0.101318            0.117798      -0.205078   \n",
       "1             0.279541          0.121460            0.140381      -0.239258   \n",
       "2             0.285645          0.122070            0.142822      -0.156250   \n",
       "3             0.286865          0.119019            0.139160       0.126953   \n",
       "4             0.286865          0.114136            0.132446       0.200195   \n",
       "\n",
       "   smcDC_case166  \n",
       "0       1.381836  \n",
       "1       1.386719  \n",
       "2       1.386719  \n",
       "3       1.381836  \n",
       "4       1.376953  \n",
       "\n",
       "[5 rows x 992 columns]"
      ]
     },
     "execution_count": 2,
     "metadata": {},
     "output_type": "execute_result"
    }
   ],
   "source": [
    "data = pd.read_csv(\"mill_data/mill_data.csv\")\n",
    "metadata_df = data.iloc[:167, :8]\n",
    "df = data.iloc[:9000, 8:]\n",
    "df.head()"
   ]
  },
  {
   "cell_type": "markdown",
   "id": "fe292fe4",
   "metadata": {},
   "source": [
    "Separate audio features from the rest of that data. Our analysis and modeling with focus on the audio features <br>\n",
    "* AE_table: Acoustic emission at table\n",
    "* AE_spindle: Acoustic emission at spindle."
   ]
  },
  {
   "cell_type": "code",
   "execution_count": 3,
   "id": "ada5d0b2",
   "metadata": {},
   "outputs": [
    {
     "data": {
      "text/html": [
       "<div>\n",
       "<style scoped>\n",
       "    .dataframe tbody tr th:only-of-type {\n",
       "        vertical-align: middle;\n",
       "    }\n",
       "\n",
       "    .dataframe tbody tr th {\n",
       "        vertical-align: top;\n",
       "    }\n",
       "\n",
       "    .dataframe thead th {\n",
       "        text-align: right;\n",
       "    }\n",
       "</style>\n",
       "<table border=\"1\" class=\"dataframe\">\n",
       "  <thead>\n",
       "    <tr style=\"text-align: right;\">\n",
       "      <th></th>\n",
       "      <th>AE_table_case001</th>\n",
       "      <th>AE_spindle_case001</th>\n",
       "      <th>AE_table_case002</th>\n",
       "      <th>AE_spindle_case002</th>\n",
       "      <th>AE_table_case003</th>\n",
       "      <th>AE_spindle_case003</th>\n",
       "      <th>AE_table_case004</th>\n",
       "      <th>AE_spindle_case004</th>\n",
       "      <th>AE_table_case005</th>\n",
       "      <th>AE_spindle_case005</th>\n",
       "      <th>...</th>\n",
       "      <th>AE_table_case161</th>\n",
       "      <th>AE_spindle_case161</th>\n",
       "      <th>AE_table_case162</th>\n",
       "      <th>AE_spindle_case162</th>\n",
       "      <th>AE_table_case163</th>\n",
       "      <th>AE_spindle_case163</th>\n",
       "      <th>AE_table_case164</th>\n",
       "      <th>AE_spindle_case164</th>\n",
       "      <th>AE_table_case165</th>\n",
       "      <th>AE_spindle_case165</th>\n",
       "    </tr>\n",
       "  </thead>\n",
       "  <tbody>\n",
       "    <tr>\n",
       "      <th>0</th>\n",
       "      <td>0.087280</td>\n",
       "      <td>0.103760</td>\n",
       "      <td>0.086670</td>\n",
       "      <td>0.099487</td>\n",
       "      <td>0.092773</td>\n",
       "      <td>0.104980</td>\n",
       "      <td>0.112915</td>\n",
       "      <td>0.139771</td>\n",
       "      <td>0.095825</td>\n",
       "      <td>0.110474</td>\n",
       "      <td>...</td>\n",
       "      <td>0.102539</td>\n",
       "      <td>0.123291</td>\n",
       "      <td>0.091553</td>\n",
       "      <td>0.098877</td>\n",
       "      <td>0.093994</td>\n",
       "      <td>0.109253</td>\n",
       "      <td>0.114746</td>\n",
       "      <td>0.139771</td>\n",
       "      <td>0.101318</td>\n",
       "      <td>0.117798</td>\n",
       "    </tr>\n",
       "    <tr>\n",
       "      <th>1</th>\n",
       "      <td>0.098267</td>\n",
       "      <td>0.123291</td>\n",
       "      <td>0.089722</td>\n",
       "      <td>0.103760</td>\n",
       "      <td>0.100708</td>\n",
       "      <td>0.119019</td>\n",
       "      <td>0.099487</td>\n",
       "      <td>0.121460</td>\n",
       "      <td>0.097656</td>\n",
       "      <td>0.113525</td>\n",
       "      <td>...</td>\n",
       "      <td>0.114136</td>\n",
       "      <td>0.129395</td>\n",
       "      <td>0.106201</td>\n",
       "      <td>0.126953</td>\n",
       "      <td>0.089722</td>\n",
       "      <td>0.102539</td>\n",
       "      <td>0.095215</td>\n",
       "      <td>0.112305</td>\n",
       "      <td>0.121460</td>\n",
       "      <td>0.140381</td>\n",
       "    </tr>\n",
       "    <tr>\n",
       "      <th>2</th>\n",
       "      <td>0.092163</td>\n",
       "      <td>0.104980</td>\n",
       "      <td>0.094604</td>\n",
       "      <td>0.108032</td>\n",
       "      <td>0.093384</td>\n",
       "      <td>0.109863</td>\n",
       "      <td>0.104980</td>\n",
       "      <td>0.124512</td>\n",
       "      <td>0.097656</td>\n",
       "      <td>0.109863</td>\n",
       "      <td>...</td>\n",
       "      <td>0.107422</td>\n",
       "      <td>0.131836</td>\n",
       "      <td>0.088501</td>\n",
       "      <td>0.098877</td>\n",
       "      <td>0.098267</td>\n",
       "      <td>0.116577</td>\n",
       "      <td>0.101929</td>\n",
       "      <td>0.120239</td>\n",
       "      <td>0.122070</td>\n",
       "      <td>0.142822</td>\n",
       "    </tr>\n",
       "    <tr>\n",
       "      <th>3</th>\n",
       "      <td>0.095215</td>\n",
       "      <td>0.111084</td>\n",
       "      <td>0.103149</td>\n",
       "      <td>0.120850</td>\n",
       "      <td>0.091553</td>\n",
       "      <td>0.112305</td>\n",
       "      <td>0.108032</td>\n",
       "      <td>0.123901</td>\n",
       "      <td>0.094604</td>\n",
       "      <td>0.109863</td>\n",
       "      <td>...</td>\n",
       "      <td>0.102539</td>\n",
       "      <td>0.127563</td>\n",
       "      <td>0.112305</td>\n",
       "      <td>0.134277</td>\n",
       "      <td>0.095215</td>\n",
       "      <td>0.106812</td>\n",
       "      <td>0.098877</td>\n",
       "      <td>0.118408</td>\n",
       "      <td>0.119019</td>\n",
       "      <td>0.139160</td>\n",
       "    </tr>\n",
       "    <tr>\n",
       "      <th>4</th>\n",
       "      <td>0.083008</td>\n",
       "      <td>0.092163</td>\n",
       "      <td>0.084229</td>\n",
       "      <td>0.100098</td>\n",
       "      <td>0.088501</td>\n",
       "      <td>0.105591</td>\n",
       "      <td>0.103149</td>\n",
       "      <td>0.111694</td>\n",
       "      <td>0.109863</td>\n",
       "      <td>0.128784</td>\n",
       "      <td>...</td>\n",
       "      <td>0.093994</td>\n",
       "      <td>0.111694</td>\n",
       "      <td>0.109253</td>\n",
       "      <td>0.122681</td>\n",
       "      <td>0.097656</td>\n",
       "      <td>0.114136</td>\n",
       "      <td>0.098877</td>\n",
       "      <td>0.120239</td>\n",
       "      <td>0.114136</td>\n",
       "      <td>0.132446</td>\n",
       "    </tr>\n",
       "  </tbody>\n",
       "</table>\n",
       "<p>5 rows × 330 columns</p>\n",
       "</div>"
      ],
      "text/plain": [
       "   AE_table_case001  AE_spindle_case001  AE_table_case002  AE_spindle_case002  \\\n",
       "0          0.087280            0.103760          0.086670            0.099487   \n",
       "1          0.098267            0.123291          0.089722            0.103760   \n",
       "2          0.092163            0.104980          0.094604            0.108032   \n",
       "3          0.095215            0.111084          0.103149            0.120850   \n",
       "4          0.083008            0.092163          0.084229            0.100098   \n",
       "\n",
       "   AE_table_case003  AE_spindle_case003  AE_table_case004  AE_spindle_case004  \\\n",
       "0          0.092773            0.104980          0.112915            0.139771   \n",
       "1          0.100708            0.119019          0.099487            0.121460   \n",
       "2          0.093384            0.109863          0.104980            0.124512   \n",
       "3          0.091553            0.112305          0.108032            0.123901   \n",
       "4          0.088501            0.105591          0.103149            0.111694   \n",
       "\n",
       "   AE_table_case005  AE_spindle_case005  ...  AE_table_case161  \\\n",
       "0          0.095825            0.110474  ...          0.102539   \n",
       "1          0.097656            0.113525  ...          0.114136   \n",
       "2          0.097656            0.109863  ...          0.107422   \n",
       "3          0.094604            0.109863  ...          0.102539   \n",
       "4          0.109863            0.128784  ...          0.093994   \n",
       "\n",
       "   AE_spindle_case161  AE_table_case162  AE_spindle_case162  AE_table_case163  \\\n",
       "0            0.123291          0.091553            0.098877          0.093994   \n",
       "1            0.129395          0.106201            0.126953          0.089722   \n",
       "2            0.131836          0.088501            0.098877          0.098267   \n",
       "3            0.127563          0.112305            0.134277          0.095215   \n",
       "4            0.111694          0.109253            0.122681          0.097656   \n",
       "\n",
       "   AE_spindle_case163  AE_table_case164  AE_spindle_case164  AE_table_case165  \\\n",
       "0            0.109253          0.114746            0.139771          0.101318   \n",
       "1            0.102539          0.095215            0.112305          0.121460   \n",
       "2            0.116577          0.101929            0.120239          0.122070   \n",
       "3            0.106812          0.098877            0.118408          0.119019   \n",
       "4            0.114136          0.098877            0.120239          0.114136   \n",
       "\n",
       "   AE_spindle_case165  \n",
       "0            0.117798  \n",
       "1            0.140381  \n",
       "2            0.142822  \n",
       "3            0.139160  \n",
       "4            0.132446  \n",
       "\n",
       "[5 rows x 330 columns]"
      ]
     },
     "execution_count": 3,
     "metadata": {},
     "output_type": "execute_result"
    }
   ],
   "source": [
    "audio_features = df[df.columns[df.columns.str.contains(\"AE\")]]\n",
    "audio_features.head()"
   ]
  },
  {
   "cell_type": "markdown",
   "id": "ae19de64",
   "metadata": {},
   "source": [
    "# Multi-Channel Signal Processing"
   ]
  },
  {
   "cell_type": "markdown",
   "id": "0926480e",
   "metadata": {},
   "source": [
    "Decompose audio signal into multiple wavelet sub-bands using Wavelet Packet Transform (WPT)"
   ]
  },
  {
   "cell_type": "markdown",
   "id": "d07d8d9c",
   "metadata": {},
   "source": [
    "Complete the process with a sample case before generalizing the framework."
   ]
  },
  {
   "cell_type": "code",
   "execution_count": 6,
   "id": "e2527ffd",
   "metadata": {},
   "outputs": [],
   "source": [
    "t1 = audio_features[\"AE_table_case001\"] # Table data from case 1\n",
    "s1 = audio_features[\"AE_spindle_case001\"] # Spindle data from case 1"
   ]
  },
  {
   "cell_type": "code",
   "execution_count": 8,
   "id": "11a3d863",
   "metadata": {},
   "outputs": [
    {
     "data": {
      "text/plain": [
       "0       0.087280\n",
       "1       0.098267\n",
       "2       0.092163\n",
       "3       0.095215\n",
       "4       0.083008\n",
       "          ...   \n",
       "8995    0.080566\n",
       "8996    0.085449\n",
       "8997    0.101318\n",
       "8998    0.127563\n",
       "8999    0.123291\n",
       "Name: AE_table_case001, Length: 9000, dtype: float64"
      ]
     },
     "execution_count": 8,
     "metadata": {},
     "output_type": "execute_result"
    }
   ],
   "source": [
    "t1"
   ]
  },
  {
   "cell_type": "code",
   "execution_count": 10,
   "id": "014e6cca",
   "metadata": {},
   "outputs": [],
   "source": [
    "import plotly.express as px"
   ]
  },
  {
   "cell_type": "code",
   "execution_count": 19,
   "id": "f247eeec",
   "metadata": {},
   "outputs": [
    {
     "data": {
      "application/vnd.plotly.v1+json": {
       "config": {
        "plotlyServerURL": "https://plot.ly"
       },
       "data": [
        {
         "hovertemplate": "x=%{x}<br>y=%{y}<extra></extra>",
         "legendgroup": "",
         "line": {
          "color": "#636efa",
          "dash": "solid"
         },
         "marker": {
          "symbol": "circle"
         },
         "mode": "lines",
         "name": "",
         "showlegend": false,
         "type": "scattergl",
         "x": {
          "bdata": "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",
          "dtype": "i2"
         },
         "xaxis": "x",
         "y": {
          "bdata": "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",
          "dtype": "f8"
         },
         "yaxis": "y"
        }
       ],
       "layout": {
        "legend": {
         "tracegroupgap": 0
        },
        "template": {
         "data": {
          "bar": [
           {
            "error_x": {
             "color": "#2a3f5f"
            },
            "error_y": {
             "color": "#2a3f5f"
            },
            "marker": {
             "line": {
              "color": "#E5ECF6",
              "width": 0.5
             },
             "pattern": {
              "fillmode": "overlay",
              "size": 10,
              "solidity": 0.2
             }
            },
            "type": "bar"
           }
          ],
          "barpolar": [
           {
            "marker": {
             "line": {
              "color": "#E5ECF6",
              "width": 0.5
             },
             "pattern": {
              "fillmode": "overlay",
              "size": 10,
              "solidity": 0.2
             }
            },
            "type": "barpolar"
           }
          ],
          "carpet": [
           {
            "aaxis": {
             "endlinecolor": "#2a3f5f",
             "gridcolor": "white",
             "linecolor": "white",
             "minorgridcolor": "white",
             "startlinecolor": "#2a3f5f"
            },
            "baxis": {
             "endlinecolor": "#2a3f5f",
             "gridcolor": "white",
             "linecolor": "white",
             "minorgridcolor": "white",
             "startlinecolor": "#2a3f5f"
            },
            "type": "carpet"
           }
          ],
          "choropleth": [
           {
            "colorbar": {
             "outlinewidth": 0,
             "ticks": ""
            },
            "type": "choropleth"
           }
          ],
          "contour": [
           {
            "colorbar": {
             "outlinewidth": 0,
             "ticks": ""
            },
            "colorscale": [
             [
              0,
              "#0d0887"
             ],
             [
              0.1111111111111111,
              "#46039f"
             ],
             [
              0.2222222222222222,
              "#7201a8"
             ],
             [
              0.3333333333333333,
              "#9c179e"
             ],
             [
              0.4444444444444444,
              "#bd3786"
             ],
             [
              0.5555555555555556,
              "#d8576b"
             ],
             [
              0.6666666666666666,
              "#ed7953"
             ],
             [
              0.7777777777777778,
              "#fb9f3a"
             ],
             [
              0.8888888888888888,
              "#fdca26"
             ],
             [
              1,
              "#f0f921"
             ]
            ],
            "type": "contour"
           }
          ],
          "contourcarpet": [
           {
            "colorbar": {
             "outlinewidth": 0,
             "ticks": ""
            },
            "type": "contourcarpet"
           }
          ],
          "heatmap": [
           {
            "colorbar": {
             "outlinewidth": 0,
             "ticks": ""
            },
            "colorscale": [
             [
              0,
              "#0d0887"
             ],
             [
              0.1111111111111111,
              "#46039f"
             ],
             [
              0.2222222222222222,
              "#7201a8"
             ],
             [
              0.3333333333333333,
              "#9c179e"
             ],
             [
              0.4444444444444444,
              "#bd3786"
             ],
             [
              0.5555555555555556,
              "#d8576b"
             ],
             [
              0.6666666666666666,
              "#ed7953"
             ],
             [
              0.7777777777777778,
              "#fb9f3a"
             ],
             [
              0.8888888888888888,
              "#fdca26"
             ],
             [
              1,
              "#f0f921"
             ]
            ],
            "type": "heatmap"
           }
          ],
          "histogram": [
           {
            "marker": {
             "pattern": {
              "fillmode": "overlay",
              "size": 10,
              "solidity": 0.2
             }
            },
            "type": "histogram"
           }
          ],
          "histogram2d": [
           {
            "colorbar": {
             "outlinewidth": 0,
             "ticks": ""
            },
            "colorscale": [
             [
              0,
              "#0d0887"
             ],
             [
              0.1111111111111111,
              "#46039f"
             ],
             [
              0.2222222222222222,
              "#7201a8"
             ],
             [
              0.3333333333333333,
              "#9c179e"
             ],
             [
              0.4444444444444444,
              "#bd3786"
             ],
             [
              0.5555555555555556,
              "#d8576b"
             ],
             [
              0.6666666666666666,
              "#ed7953"
             ],
             [
              0.7777777777777778,
              "#fb9f3a"
             ],
             [
              0.8888888888888888,
              "#fdca26"
             ],
             [
              1,
              "#f0f921"
             ]
            ],
            "type": "histogram2d"
           }
          ],
          "histogram2dcontour": [
           {
            "colorbar": {
             "outlinewidth": 0,
             "ticks": ""
            },
            "colorscale": [
             [
              0,
              "#0d0887"
             ],
             [
              0.1111111111111111,
              "#46039f"
             ],
             [
              0.2222222222222222,
              "#7201a8"
             ],
             [
              0.3333333333333333,
              "#9c179e"
             ],
             [
              0.4444444444444444,
              "#bd3786"
             ],
             [
              0.5555555555555556,
              "#d8576b"
             ],
             [
              0.6666666666666666,
              "#ed7953"
             ],
             [
              0.7777777777777778,
              "#fb9f3a"
             ],
             [
              0.8888888888888888,
              "#fdca26"
             ],
             [
              1,
              "#f0f921"
             ]
            ],
            "type": "histogram2dcontour"
           }
          ],
          "mesh3d": [
           {
            "colorbar": {
             "outlinewidth": 0,
             "ticks": ""
            },
            "type": "mesh3d"
           }
          ],
          "parcoords": [
           {
            "line": {
             "colorbar": {
              "outlinewidth": 0,
              "ticks": ""
             }
            },
            "type": "parcoords"
           }
          ],
          "pie": [
           {
            "automargin": true,
            "type": "pie"
           }
          ],
          "scatter": [
           {
            "fillpattern": {
             "fillmode": "overlay",
             "size": 10,
             "solidity": 0.2
            },
            "type": "scatter"
           }
          ],
          "scatter3d": [
           {
            "line": {
             "colorbar": {
              "outlinewidth": 0,
              "ticks": ""
             }
            },
            "marker": {
             "colorbar": {
              "outlinewidth": 0,
              "ticks": ""
             }
            },
            "type": "scatter3d"
           }
          ],
          "scattercarpet": [
           {
            "marker": {
             "colorbar": {
              "outlinewidth": 0,
              "ticks": ""
             }
            },
            "type": "scattercarpet"
           }
          ],
          "scattergeo": [
           {
            "marker": {
             "colorbar": {
              "outlinewidth": 0,
              "ticks": ""
             }
            },
            "type": "scattergeo"
           }
          ],
          "scattergl": [
           {
            "marker": {
             "colorbar": {
              "outlinewidth": 0,
              "ticks": ""
             }
            },
            "type": "scattergl"
           }
          ],
          "scattermap": [
           {
            "marker": {
             "colorbar": {
              "outlinewidth": 0,
              "ticks": ""
             }
            },
            "type": "scattermap"
           }
          ],
          "scattermapbox": [
           {
            "marker": {
             "colorbar": {
              "outlinewidth": 0,
              "ticks": ""
             }
            },
            "type": "scattermapbox"
           }
          ],
          "scatterpolar": [
           {
            "marker": {
             "colorbar": {
              "outlinewidth": 0,
              "ticks": ""
             }
            },
            "type": "scatterpolar"
           }
          ],
          "scatterpolargl": [
           {
            "marker": {
             "colorbar": {
              "outlinewidth": 0,
              "ticks": ""
             }
            },
            "type": "scatterpolargl"
           }
          ],
          "scatterternary": [
           {
            "marker": {
             "colorbar": {
              "outlinewidth": 0,
              "ticks": ""
             }
            },
            "type": "scatterternary"
           }
          ],
          "surface": [
           {
            "colorbar": {
             "outlinewidth": 0,
             "ticks": ""
            },
            "colorscale": [
             [
              0,
              "#0d0887"
             ],
             [
              0.1111111111111111,
              "#46039f"
             ],
             [
              0.2222222222222222,
              "#7201a8"
             ],
             [
              0.3333333333333333,
              "#9c179e"
             ],
             [
              0.4444444444444444,
              "#bd3786"
             ],
             [
              0.5555555555555556,
              "#d8576b"
             ],
             [
              0.6666666666666666,
              "#ed7953"
             ],
             [
              0.7777777777777778,
              "#fb9f3a"
             ],
             [
              0.8888888888888888,
              "#fdca26"
             ],
             [
              1,
              "#f0f921"
             ]
            ],
            "type": "surface"
           }
          ],
          "table": [
           {
            "cells": {
             "fill": {
              "color": "#EBF0F8"
             },
             "line": {
              "color": "white"
             }
            },
            "header": {
             "fill": {
              "color": "#C8D4E3"
             },
             "line": {
              "color": "white"
             }
            },
            "type": "table"
           }
          ]
         },
         "layout": {
          "annotationdefaults": {
           "arrowcolor": "#2a3f5f",
           "arrowhead": 0,
           "arrowwidth": 1
          },
          "autotypenumbers": "strict",
          "coloraxis": {
           "colorbar": {
            "outlinewidth": 0,
            "ticks": ""
           }
          },
          "colorscale": {
           "diverging": [
            [
             0,
             "#8e0152"
            ],
            [
             0.1,
             "#c51b7d"
            ],
            [
             0.2,
             "#de77ae"
            ],
            [
             0.3,
             "#f1b6da"
            ],
            [
             0.4,
             "#fde0ef"
            ],
            [
             0.5,
             "#f7f7f7"
            ],
            [
             0.6,
             "#e6f5d0"
            ],
            [
             0.7,
             "#b8e186"
            ],
            [
             0.8,
             "#7fbc41"
            ],
            [
             0.9,
             "#4d9221"
            ],
            [
             1,
             "#276419"
            ]
           ],
           "sequential": [
            [
             0,
             "#0d0887"
            ],
            [
             0.1111111111111111,
             "#46039f"
            ],
            [
             0.2222222222222222,
             "#7201a8"
            ],
            [
             0.3333333333333333,
             "#9c179e"
            ],
            [
             0.4444444444444444,
             "#bd3786"
            ],
            [
             0.5555555555555556,
             "#d8576b"
            ],
            [
             0.6666666666666666,
             "#ed7953"
            ],
            [
             0.7777777777777778,
             "#fb9f3a"
            ],
            [
             0.8888888888888888,
             "#fdca26"
            ],
            [
             1,
             "#f0f921"
            ]
           ],
           "sequentialminus": [
            [
             0,
             "#0d0887"
            ],
            [
             0.1111111111111111,
             "#46039f"
            ],
            [
             0.2222222222222222,
             "#7201a8"
            ],
            [
             0.3333333333333333,
             "#9c179e"
            ],
            [
             0.4444444444444444,
             "#bd3786"
            ],
            [
             0.5555555555555556,
             "#d8576b"
            ],
            [
             0.6666666666666666,
             "#ed7953"
            ],
            [
             0.7777777777777778,
             "#fb9f3a"
            ],
            [
             0.8888888888888888,
             "#fdca26"
            ],
            [
             1,
             "#f0f921"
            ]
           ]
          },
          "colorway": [
           "#636efa",
           "#EF553B",
           "#00cc96",
           "#ab63fa",
           "#FFA15A",
           "#19d3f3",
           "#FF6692",
           "#B6E880",
           "#FF97FF",
           "#FECB52"
          ],
          "font": {
           "color": "#2a3f5f"
          },
          "geo": {
           "bgcolor": "white",
           "lakecolor": "white",
           "landcolor": "#E5ECF6",
           "showlakes": true,
           "showland": true,
           "subunitcolor": "white"
          },
          "hoverlabel": {
           "align": "left"
          },
          "hovermode": "closest",
          "mapbox": {
           "style": "light"
          },
          "paper_bgcolor": "white",
          "plot_bgcolor": "#E5ECF6",
          "polar": {
           "angularaxis": {
            "gridcolor": "white",
            "linecolor": "white",
            "ticks": ""
           },
           "bgcolor": "#E5ECF6",
           "radialaxis": {
            "gridcolor": "white",
            "linecolor": "white",
            "ticks": ""
           }
          },
          "scene": {
           "xaxis": {
            "backgroundcolor": "#E5ECF6",
            "gridcolor": "white",
            "gridwidth": 2,
            "linecolor": "white",
            "showbackground": true,
            "ticks": "",
            "zerolinecolor": "white"
           },
           "yaxis": {
            "backgroundcolor": "#E5ECF6",
            "gridcolor": "white",
            "gridwidth": 2,
            "linecolor": "white",
            "showbackground": true,
            "ticks": "",
            "zerolinecolor": "white"
           },
           "zaxis": {
            "backgroundcolor": "#E5ECF6",
            "gridcolor": "white",
            "gridwidth": 2,
            "linecolor": "white",
            "showbackground": true,
            "ticks": "",
            "zerolinecolor": "white"
           }
          },
          "shapedefaults": {
           "line": {
            "color": "#2a3f5f"
           }
          },
          "ternary": {
           "aaxis": {
            "gridcolor": "white",
            "linecolor": "white",
            "ticks": ""
           },
           "baxis": {
            "gridcolor": "white",
            "linecolor": "white",
            "ticks": ""
           },
           "bgcolor": "#E5ECF6",
           "caxis": {
            "gridcolor": "white",
            "linecolor": "white",
            "ticks": ""
           }
          },
          "title": {
           "x": 0.05
          },
          "xaxis": {
           "automargin": true,
           "gridcolor": "white",
           "linecolor": "white",
           "ticks": "",
           "title": {
            "standoff": 15
           },
           "zerolinecolor": "white",
           "zerolinewidth": 2
          },
          "yaxis": {
           "automargin": true,
           "gridcolor": "white",
           "linecolor": "white",
           "ticks": "",
           "title": {
            "standoff": 15
           },
           "zerolinecolor": "white",
           "zerolinewidth": 2
          }
         }
        },
        "title": {
         "text": "Acoustic Emissions at the Table"
        },
        "xaxis": {
         "anchor": "y",
         "domain": [
          0,
          1
         ],
         "title": {
          "text": "Sample"
         }
        },
        "yaxis": {
         "anchor": "x",
         "domain": [
          0,
          1
         ],
         "title": {
          "text": "Acoustic Emissions"
         }
        }
       }
      }
     },
     "metadata": {},
     "output_type": "display_data"
    }
   ],
   "source": [
    "fig = px.line(x=t1.index, y=t1, title='Acoustic Emissions at the Table')\n",
    "\n",
    "fig.update_layout(\n",
    "    xaxis_title=\"Sample\",\n",
    "    yaxis_title=\"Acoustic Emissions\" # What units are these?\n",
    ")\n",
    "\n",
    "fig.show()"
   ]
  },
  {
   "cell_type": "markdown",
   "id": "ae826f61",
   "metadata": {},
   "source": [
    "Perform WPT"
   ]
  },
  {
   "cell_type": "code",
   "execution_count": 23,
   "id": "540e6021",
   "metadata": {},
   "outputs": [],
   "source": [
    "wp_t1 = pywt.WaveletPacket(data=t1, wavelet='db1', mode='symmetric')\n",
    "wp_s1 = pywt.WaveletPacket(data=s1, wavelet='db1', mode='symmetric')"
   ]
  },
  {
   "cell_type": "markdown",
   "id": "cb72c476",
   "metadata": {},
   "source": [
    "HOW DO I ANALYZE THE DATA?"
   ]
  },
  {
   "cell_type": "markdown",
   "id": "786d1dcb",
   "metadata": {},
   "source": []
  }
 ],
 "metadata": {
  "kernelspec": {
   "display_name": "machine_learning",
   "language": "python",
   "name": "python3"
  },
  "language_info": {
   "codemirror_mode": {
    "name": "ipython",
    "version": 3
   },
   "file_extension": ".py",
   "mimetype": "text/x-python",
   "name": "python",
   "nbconvert_exporter": "python",
   "pygments_lexer": "ipython3",
   "version": "3.10.16"
  }
 },
 "nbformat": 4,
 "nbformat_minor": 5
}
