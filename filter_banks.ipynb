{
 "cells": [
  {
   "cell_type": "code",
   "execution_count": 114,
   "id": "009c5a91",
   "metadata": {},
   "outputs": [],
   "source": [
    "import pandas as pd\n",
    "import numpy as np\n",
    "import matplotlib.pyplot as plt\n",
    "from ipywidgets import widgets, interact\n",
    "from scipy.signal import freqz\n",
    "%matplotlib inline\n",
    "\n",
    "from ipywidgets import interact, Dropdown, IntSlider\n",
    "import matplotlib.pyplot as plt\n",
    "import numpy as np\n",
    "from IPython.display import display\n"
   ]
  },
  {
   "cell_type": "code",
   "execution_count": 115,
   "id": "22c4bddd",
   "metadata": {},
   "outputs": [],
   "source": [
    "audio_data = pd.read_csv(\"audio_features.csv\")\n",
    "metadata_df = pd.read_csv(\"metadata.csv\")\n",
    "all_data = pd.read_csv(\"all_features.csv\")"
   ]
  },
  {
   "cell_type": "code",
   "execution_count": 116,
   "id": "732cf493",
   "metadata": {},
   "outputs": [
    {
     "data": {
      "text/html": [
       "<div>\n",
       "<style scoped>\n",
       "    .dataframe tbody tr th:only-of-type {\n",
       "        vertical-align: middle;\n",
       "    }\n",
       "\n",
       "    .dataframe tbody tr th {\n",
       "        vertical-align: top;\n",
       "    }\n",
       "\n",
       "    .dataframe thead th {\n",
       "        text-align: right;\n",
       "    }\n",
       "</style>\n",
       "<table border=\"1\" class=\"dataframe\">\n",
       "  <thead>\n",
       "    <tr style=\"text-align: right;\">\n",
       "      <th></th>\n",
       "      <th>smcAC_case001</th>\n",
       "      <th>smcDC_case001</th>\n",
       "      <th>vib_table_case001</th>\n",
       "      <th>vib_spindle_case001</th>\n",
       "      <th>AE_table_case001</th>\n",
       "      <th>AE_spindle_case001</th>\n",
       "      <th>smcAC_case002</th>\n",
       "      <th>smcDC_case002</th>\n",
       "      <th>vib_table_case002</th>\n",
       "      <th>vib_spindle_case002</th>\n",
       "      <th>...</th>\n",
       "      <th>AE_table_case164</th>\n",
       "      <th>AE_spindle_case164</th>\n",
       "      <th>smcAC_case165</th>\n",
       "      <th>smcDC_case165</th>\n",
       "      <th>vib_table_case165</th>\n",
       "      <th>vib_spindle_case165</th>\n",
       "      <th>AE_table_case165</th>\n",
       "      <th>AE_spindle_case165</th>\n",
       "      <th>smcAC_case166</th>\n",
       "      <th>smcDC_case166</th>\n",
       "    </tr>\n",
       "  </thead>\n",
       "  <tbody>\n",
       "    <tr>\n",
       "      <th>0</th>\n",
       "      <td>-0.017090</td>\n",
       "      <td>0.625000</td>\n",
       "      <td>0.078125</td>\n",
       "      <td>0.314941</td>\n",
       "      <td>0.087280</td>\n",
       "      <td>0.103760</td>\n",
       "      <td>0.307617</td>\n",
       "      <td>0.668945</td>\n",
       "      <td>0.075684</td>\n",
       "      <td>0.301514</td>\n",
       "      <td>...</td>\n",
       "      <td>0.114746</td>\n",
       "      <td>0.139771</td>\n",
       "      <td>0.244141</td>\n",
       "      <td>1.328125</td>\n",
       "      <td>0.063477</td>\n",
       "      <td>0.290527</td>\n",
       "      <td>0.101318</td>\n",
       "      <td>0.117798</td>\n",
       "      <td>-0.205078</td>\n",
       "      <td>1.381836</td>\n",
       "    </tr>\n",
       "    <tr>\n",
       "      <th>1</th>\n",
       "      <td>0.263672</td>\n",
       "      <td>0.810547</td>\n",
       "      <td>0.085449</td>\n",
       "      <td>0.301514</td>\n",
       "      <td>0.098267</td>\n",
       "      <td>0.123291</td>\n",
       "      <td>0.312500</td>\n",
       "      <td>0.678711</td>\n",
       "      <td>0.080566</td>\n",
       "      <td>0.308838</td>\n",
       "      <td>...</td>\n",
       "      <td>0.095215</td>\n",
       "      <td>0.112305</td>\n",
       "      <td>0.244141</td>\n",
       "      <td>1.333008</td>\n",
       "      <td>0.058594</td>\n",
       "      <td>0.279541</td>\n",
       "      <td>0.121460</td>\n",
       "      <td>0.140381</td>\n",
       "      <td>-0.239258</td>\n",
       "      <td>1.386719</td>\n",
       "    </tr>\n",
       "    <tr>\n",
       "      <th>2</th>\n",
       "      <td>0.207520</td>\n",
       "      <td>0.781250</td>\n",
       "      <td>0.078125</td>\n",
       "      <td>0.303955</td>\n",
       "      <td>0.092163</td>\n",
       "      <td>0.104980</td>\n",
       "      <td>0.195312</td>\n",
       "      <td>0.859375</td>\n",
       "      <td>0.078125</td>\n",
       "      <td>0.299072</td>\n",
       "      <td>...</td>\n",
       "      <td>0.101929</td>\n",
       "      <td>0.120239</td>\n",
       "      <td>0.205078</td>\n",
       "      <td>1.333008</td>\n",
       "      <td>0.058594</td>\n",
       "      <td>0.285645</td>\n",
       "      <td>0.122070</td>\n",
       "      <td>0.142822</td>\n",
       "      <td>-0.156250</td>\n",
       "      <td>1.386719</td>\n",
       "    </tr>\n",
       "    <tr>\n",
       "      <th>3</th>\n",
       "      <td>0.302734</td>\n",
       "      <td>0.849609</td>\n",
       "      <td>0.073242</td>\n",
       "      <td>0.300293</td>\n",
       "      <td>0.095215</td>\n",
       "      <td>0.111084</td>\n",
       "      <td>0.187988</td>\n",
       "      <td>1.123047</td>\n",
       "      <td>0.080566</td>\n",
       "      <td>0.306396</td>\n",
       "      <td>...</td>\n",
       "      <td>0.098877</td>\n",
       "      <td>0.118408</td>\n",
       "      <td>0.156250</td>\n",
       "      <td>1.333008</td>\n",
       "      <td>0.063477</td>\n",
       "      <td>0.286865</td>\n",
       "      <td>0.119019</td>\n",
       "      <td>0.139160</td>\n",
       "      <td>0.126953</td>\n",
       "      <td>1.381836</td>\n",
       "    </tr>\n",
       "    <tr>\n",
       "      <th>4</th>\n",
       "      <td>0.239258</td>\n",
       "      <td>1.098633</td>\n",
       "      <td>0.083008</td>\n",
       "      <td>0.299072</td>\n",
       "      <td>0.083008</td>\n",
       "      <td>0.092163</td>\n",
       "      <td>-0.009766</td>\n",
       "      <td>1.166992</td>\n",
       "      <td>0.075684</td>\n",
       "      <td>0.319824</td>\n",
       "      <td>...</td>\n",
       "      <td>0.098877</td>\n",
       "      <td>0.120239</td>\n",
       "      <td>0.048828</td>\n",
       "      <td>1.337891</td>\n",
       "      <td>0.058594</td>\n",
       "      <td>0.286865</td>\n",
       "      <td>0.114136</td>\n",
       "      <td>0.132446</td>\n",
       "      <td>0.200195</td>\n",
       "      <td>1.376953</td>\n",
       "    </tr>\n",
       "  </tbody>\n",
       "</table>\n",
       "<p>5 rows × 992 columns</p>\n",
       "</div>"
      ],
      "text/plain": [
       "   smcAC_case001  smcDC_case001  vib_table_case001  vib_spindle_case001  \\\n",
       "0      -0.017090       0.625000           0.078125             0.314941   \n",
       "1       0.263672       0.810547           0.085449             0.301514   \n",
       "2       0.207520       0.781250           0.078125             0.303955   \n",
       "3       0.302734       0.849609           0.073242             0.300293   \n",
       "4       0.239258       1.098633           0.083008             0.299072   \n",
       "\n",
       "   AE_table_case001  AE_spindle_case001  smcAC_case002  smcDC_case002  \\\n",
       "0          0.087280            0.103760       0.307617       0.668945   \n",
       "1          0.098267            0.123291       0.312500       0.678711   \n",
       "2          0.092163            0.104980       0.195312       0.859375   \n",
       "3          0.095215            0.111084       0.187988       1.123047   \n",
       "4          0.083008            0.092163      -0.009766       1.166992   \n",
       "\n",
       "   vib_table_case002  vib_spindle_case002  ...  AE_table_case164  \\\n",
       "0           0.075684             0.301514  ...          0.114746   \n",
       "1           0.080566             0.308838  ...          0.095215   \n",
       "2           0.078125             0.299072  ...          0.101929   \n",
       "3           0.080566             0.306396  ...          0.098877   \n",
       "4           0.075684             0.319824  ...          0.098877   \n",
       "\n",
       "   AE_spindle_case164  smcAC_case165  smcDC_case165  vib_table_case165  \\\n",
       "0            0.139771       0.244141       1.328125           0.063477   \n",
       "1            0.112305       0.244141       1.333008           0.058594   \n",
       "2            0.120239       0.205078       1.333008           0.058594   \n",
       "3            0.118408       0.156250       1.333008           0.063477   \n",
       "4            0.120239       0.048828       1.337891           0.058594   \n",
       "\n",
       "   vib_spindle_case165  AE_table_case165  AE_spindle_case165  smcAC_case166  \\\n",
       "0             0.290527          0.101318            0.117798      -0.205078   \n",
       "1             0.279541          0.121460            0.140381      -0.239258   \n",
       "2             0.285645          0.122070            0.142822      -0.156250   \n",
       "3             0.286865          0.119019            0.139160       0.126953   \n",
       "4             0.286865          0.114136            0.132446       0.200195   \n",
       "\n",
       "   smcDC_case166  \n",
       "0       1.381836  \n",
       "1       1.386719  \n",
       "2       1.386719  \n",
       "3       1.381836  \n",
       "4       1.376953  \n",
       "\n",
       "[5 rows x 992 columns]"
      ]
     },
     "metadata": {},
     "output_type": "display_data"
    },
    {
     "data": {
      "text/html": [
       "<div>\n",
       "<style scoped>\n",
       "    .dataframe tbody tr th:only-of-type {\n",
       "        vertical-align: middle;\n",
       "    }\n",
       "\n",
       "    .dataframe tbody tr th {\n",
       "        vertical-align: top;\n",
       "    }\n",
       "\n",
       "    .dataframe thead th {\n",
       "        text-align: right;\n",
       "    }\n",
       "</style>\n",
       "<table border=\"1\" class=\"dataframe\">\n",
       "  <thead>\n",
       "    <tr style=\"text-align: right;\">\n",
       "      <th></th>\n",
       "      <th>Unnamed: 0</th>\n",
       "      <th>case</th>\n",
       "      <th>run</th>\n",
       "      <th>VB</th>\n",
       "      <th>time</th>\n",
       "      <th>DOC</th>\n",
       "      <th>feed</th>\n",
       "      <th>material</th>\n",
       "    </tr>\n",
       "  </thead>\n",
       "  <tbody>\n",
       "    <tr>\n",
       "      <th>0</th>\n",
       "      <td>NaN</td>\n",
       "      <td>1.0</td>\n",
       "      <td>1.0</td>\n",
       "      <td>0.0</td>\n",
       "      <td>2.0</td>\n",
       "      <td>1.5</td>\n",
       "      <td>0.5</td>\n",
       "      <td>1.0</td>\n",
       "    </tr>\n",
       "    <tr>\n",
       "      <th>1</th>\n",
       "      <td>NaN</td>\n",
       "      <td>1.0</td>\n",
       "      <td>2.0</td>\n",
       "      <td>NaN</td>\n",
       "      <td>4.0</td>\n",
       "      <td>1.5</td>\n",
       "      <td>0.5</td>\n",
       "      <td>1.0</td>\n",
       "    </tr>\n",
       "    <tr>\n",
       "      <th>2</th>\n",
       "      <td>NaN</td>\n",
       "      <td>1.0</td>\n",
       "      <td>3.0</td>\n",
       "      <td>NaN</td>\n",
       "      <td>6.0</td>\n",
       "      <td>1.5</td>\n",
       "      <td>0.5</td>\n",
       "      <td>1.0</td>\n",
       "    </tr>\n",
       "    <tr>\n",
       "      <th>3</th>\n",
       "      <td>NaN</td>\n",
       "      <td>1.0</td>\n",
       "      <td>4.0</td>\n",
       "      <td>11.0</td>\n",
       "      <td>7.0</td>\n",
       "      <td>1.5</td>\n",
       "      <td>0.5</td>\n",
       "      <td>1.0</td>\n",
       "    </tr>\n",
       "    <tr>\n",
       "      <th>4</th>\n",
       "      <td>NaN</td>\n",
       "      <td>1.0</td>\n",
       "      <td>5.0</td>\n",
       "      <td>NaN</td>\n",
       "      <td>11.0</td>\n",
       "      <td>1.5</td>\n",
       "      <td>0.5</td>\n",
       "      <td>1.0</td>\n",
       "    </tr>\n",
       "  </tbody>\n",
       "</table>\n",
       "</div>"
      ],
      "text/plain": [
       "   Unnamed: 0  case  run    VB  time  DOC  feed  material\n",
       "0         NaN   1.0  1.0   0.0   2.0  1.5   0.5       1.0\n",
       "1         NaN   1.0  2.0   NaN   4.0  1.5   0.5       1.0\n",
       "2         NaN   1.0  3.0   NaN   6.0  1.5   0.5       1.0\n",
       "3         NaN   1.0  4.0  11.0   7.0  1.5   0.5       1.0\n",
       "4         NaN   1.0  5.0   NaN  11.0  1.5   0.5       1.0"
      ]
     },
     "metadata": {},
     "output_type": "display_data"
    }
   ],
   "source": [
    "display(all_data.head())\n",
    "display(metadata_df.head())"
   ]
  },
  {
   "cell_type": "code",
   "execution_count": 117,
   "id": "35401984",
   "metadata": {},
   "outputs": [],
   "source": [
    "signal = audio_data[\"AE_spindle_case001\"] # Choose a signal to analyze"
   ]
  },
  {
   "cell_type": "markdown",
   "id": "77b62a1c",
   "metadata": {},
   "source": [
    "# Analyze STFT of Each Label"
   ]
  },
  {
   "cell_type": "code",
   "execution_count": 118,
   "id": "3f595b0f",
   "metadata": {},
   "outputs": [],
   "source": [
    "\n",
    "bins = [0, 20, 40, 70, 100, 150, 1_000]\n",
    "labels = [\"Good\", \"Slight\", \"Average\", \"Heavy\", \"Severe\", \"Failure\"]\n",
    "\n",
    "labels = pd.cut(metadata_df[\"VB\"], bins=bins, labels=labels)\n",
    "# Remove case 166 and 167 since no data for them\n",
    "\n",
    "label_dict = {\"Good\": [], \"Slight\": [], \"Average\": [], \"Heavy\": [], \"Severe\": [], \"Failure\": []}\n",
    "\n",
    "for label in label_dict:\n",
    "    label_dict[label] = labels[labels==label].index + 1\n",
    "    "
   ]
  },
  {
   "cell_type": "markdown",
   "id": "3b6769b6",
   "metadata": {},
   "source": [
    "Important Notes: <br>\n",
    "* There are 2 different speeds.\n",
    "* There are 2 different cutting materials."
   ]
  },
  {
   "cell_type": "markdown",
   "id": "25f2c4d7",
   "metadata": {},
   "source": [
    "# Filter Bank Analysis"
   ]
  },
  {
   "cell_type": "code",
   "execution_count": 119,
   "id": "2f18e09f",
   "metadata": {},
   "outputs": [],
   "source": [
    "from scipy.signal import butter, filtfilt\n",
    "\n",
    "def butter_bandpass(lowcut, highcut, fs, order=4):\n",
    "    nyq = fs / 2\n",
    "    low = lowcut / nyq\n",
    "    high = highcut / nyq\n",
    "    \n",
    "    return butter(order, [low, high], btype='band')\n"
   ]
  },
  {
   "cell_type": "code",
   "execution_count": 120,
   "id": "83e22ad0",
   "metadata": {},
   "outputs": [
    {
     "name": "stdout",
     "output_type": "stream",
     "text": [
      "\n",
      "⏬ Good category visualization\n"
     ]
    },
    {
     "data": {
      "application/vnd.jupyter.widget-view+json": {
       "model_id": "332949b64979423197055c93100b1677",
       "version_major": 2,
       "version_minor": 0
      },
      "text/plain": [
       "interactive(children=(Dropdown(description='Sensor', options=('AE_spindle', 'AE_table', 'vib_spindle', 'vib_ta…"
      ]
     },
     "metadata": {},
     "output_type": "display_data"
    },
    {
     "name": "stdout",
     "output_type": "stream",
     "text": [
      "\n",
      "⏬ Slight category visualization\n"
     ]
    },
    {
     "data": {
      "application/vnd.jupyter.widget-view+json": {
       "model_id": "8eb3991ee7254d1fa755e0179a39e5c8",
       "version_major": 2,
       "version_minor": 0
      },
      "text/plain": [
       "interactive(children=(Dropdown(description='Sensor', options=('AE_spindle', 'AE_table', 'vib_spindle', 'vib_ta…"
      ]
     },
     "metadata": {},
     "output_type": "display_data"
    },
    {
     "name": "stdout",
     "output_type": "stream",
     "text": [
      "\n",
      "⏬ Average category visualization\n"
     ]
    },
    {
     "data": {
      "application/vnd.jupyter.widget-view+json": {
       "model_id": "40bb26117b104d26939351174124d687",
       "version_major": 2,
       "version_minor": 0
      },
      "text/plain": [
       "interactive(children=(Dropdown(description='Sensor', options=('AE_spindle', 'AE_table', 'vib_spindle', 'vib_ta…"
      ]
     },
     "metadata": {},
     "output_type": "display_data"
    },
    {
     "name": "stdout",
     "output_type": "stream",
     "text": [
      "\n",
      "⏬ Heavy category visualization\n"
     ]
    },
    {
     "data": {
      "application/vnd.jupyter.widget-view+json": {
       "model_id": "db32b12b43af41f4b40b42d24ab0b0e7",
       "version_major": 2,
       "version_minor": 0
      },
      "text/plain": [
       "interactive(children=(Dropdown(description='Sensor', options=('AE_spindle', 'AE_table', 'vib_spindle', 'vib_ta…"
      ]
     },
     "metadata": {},
     "output_type": "display_data"
    },
    {
     "name": "stdout",
     "output_type": "stream",
     "text": [
      "\n",
      "⏬ Severe category visualization\n"
     ]
    },
    {
     "data": {
      "application/vnd.jupyter.widget-view+json": {
       "model_id": "2af551d27a5f478e9388521531bf3a9c",
       "version_major": 2,
       "version_minor": 0
      },
      "text/plain": [
       "interactive(children=(Dropdown(description='Sensor', options=('AE_spindle', 'AE_table', 'vib_spindle', 'vib_ta…"
      ]
     },
     "metadata": {},
     "output_type": "display_data"
    },
    {
     "name": "stdout",
     "output_type": "stream",
     "text": [
      "\n",
      "⏬ Failure category visualization\n"
     ]
    },
    {
     "data": {
      "application/vnd.jupyter.widget-view+json": {
       "model_id": "9a0b349b731b4d698e2c0d2898a48d91",
       "version_major": 2,
       "version_minor": 0
      },
      "text/plain": [
       "interactive(children=(Dropdown(description='Sensor', options=('AE_spindle', 'AE_table', 'vib_spindle', 'vib_ta…"
      ]
     },
     "metadata": {},
     "output_type": "display_data"
    }
   ],
   "source": [
    "def apply_filter_bank(sensor_type, case_number):\n",
    "    fs = 250\n",
    "    case_str = str(case_number).zfill(3)\n",
    "\n",
    "    signal = audio_data[f\"{sensor_type}_case{case_str}\"]\n",
    "    \n",
    "    bands = {\n",
    "        \"band 1\": (0.01, 20),    \n",
    "        \"band 2\": (20, 60),  \n",
    "        \"band 3\": (60, 100),\n",
    "        \"band 4\": (100, 124.99) \n",
    "    }\n",
    "\n",
    "    band_energies = {}\n",
    "    total_energy = np.sum(signal ** 2)\n",
    "\n",
    "    # Why are we cycling through each band x2?\n",
    "    for band, (low, high) in bands.items():\n",
    "        b, a = butter_bandpass(low, high, fs)\n",
    "        filtered = filtfilt(b, a, signal)\n",
    "        energy = np.sum(filtered ** 2)\n",
    "        band_energies[band] = energy / total_energy if total_energy > 0 else 0\n",
    "        print(\"Band\", band, \"Energies\", band_energies[band])\n",
    "    \n",
    "    print(\"Band items\", bands.items())\n",
    "\n",
    "    # Access band_energy_ratios['low'], ['mid'], ['high']\n",
    "\n",
    "    print(band_energies)\n",
    "\n",
    "    plt.bar(band_energies.keys(), band_energies.values())\n",
    "    plt.title(f\"Band Energy Ratios - Case {case_str}\")\n",
    "    plt.ylabel(\"Energy Ratio\")\n",
    "    plt.show()\n",
    "\n",
    "\n",
    "\n",
    "def create_category_plotter(category_name, label_dict):\n",
    "    valid_cases = sorted(label_dict[category_name])\n",
    "    sensor_options = [\"AE_spindle\", \"AE_table\", \"vib_spindle\", \"vib_table\", \"smcAC\", \"smcDC\"]\n",
    "    \n",
    "    interact(\n",
    "        apply_filter_bank,\n",
    "        sensor_type=Dropdown(options=sensor_options, description=\"Sensor\"),\n",
    "        case_number=Dropdown(options=valid_cases, description=\"Case #\"),\n",
    "        category=widgets.fixed(category_name)\n",
    "    )\n",
    "\n",
    "    \n",
    "\n",
    "# Create one interactive plotter per category\n",
    "for category in label_dict.keys():\n",
    "    print(f\"\\n⏬ {category} category visualization\")\n",
    "    create_category_plotter(category, label_dict)"
   ]
  },
  {
   "cell_type": "markdown",
   "id": "4ead3ea7",
   "metadata": {},
   "source": [
    "# Brief explanation of the energy conversion process. \n",
    "* How did we calculate energy? \n",
    "* Why use energy as a metric?"
   ]
  }
 ],
 "metadata": {
  "kernelspec": {
   "display_name": "machine_learning",
   "language": "python",
   "name": "python3"
  },
  "language_info": {
   "codemirror_mode": {
    "name": "ipython",
    "version": 3
   },
   "file_extension": ".py",
   "mimetype": "text/x-python",
   "name": "python",
   "nbconvert_exporter": "python",
   "pygments_lexer": "ipython3",
   "version": "3.10.16"
  }
 },
 "nbformat": 4,
 "nbformat_minor": 5
}
