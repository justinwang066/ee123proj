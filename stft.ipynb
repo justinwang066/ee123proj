{
 "cells": [
  {
   "cell_type": "code",
   "execution_count": 4,
   "id": "009c5a91",
   "metadata": {},
   "outputs": [],
   "source": [
    "import pandas as pd\n",
    "import numpy as np\n",
    "import matplotlib.pyplot as plt\n",
    "from ipywidgets import widgets, interact\n",
    "from scipy.signal import freqz\n",
    "%matplotlib inline"
   ]
  },
  {
   "cell_type": "code",
   "execution_count": 5,
   "id": "22c4bddd",
   "metadata": {},
   "outputs": [],
   "source": [
    "audio_data = pd.read_csv(\"audio_features.csv\")\n",
    "metadata_df = pd.read_csv(\"metadata.csv\")"
   ]
  },
  {
   "cell_type": "code",
   "execution_count": 9,
   "id": "35401984",
   "metadata": {},
   "outputs": [],
   "source": [
    "signal = audio_data[\"AE_spindle_case001\"] # Choose a signal to analyze"
   ]
  },
  {
   "cell_type": "code",
   "execution_count": null,
   "id": "c73184ea",
   "metadata": {},
   "outputs": [
    {
     "name": "stdout",
     "output_type": "stream",
     "text": [
      "20.0\n"
     ]
    },
    {
     "data": {
      "application/vnd.jupyter.widget-view+json": {
       "model_id": "5f2ec8ce45b0479888f894443dcc9bf3",
       "version_major": 2,
       "version_minor": 0
      },
      "text/plain": [
       "interactive(children=(IntSlider(value=1, description='time_seg', max=50, min=1), IntSlider(value=0, descriptio…"
      ]
     },
     "metadata": {},
     "output_type": "display_data"
    }
   ],
   "source": [
    "w1 = 0.1*np.pi\n",
    "w2 = 0.2*np.pi\n",
    "delta_w = abs(w1-w2)\n",
    "N_least = np.ceil(2*np.pi/delta_w)\n",
    "print(N_least)\n",
    "\n",
    "N = len(signal)\n",
    "fs = 250 # Hz\n",
    "\n",
    "filters = ({\"name\":\"rect\", \"function\":np.ones}, {\"name\":\"hanning\", \"function\":np.hanning}, {\"name\":\"kaiser\", \"function\":np.kaiser})\n",
    "def sTFT(time_seg, filter_index):\n",
    "    Nwindow         = N//time_seg\n",
    "    time_freq_image = np.zeros((N//2, time_seg))\n",
    "    for time_index in range(time_seg):\n",
    "        signal_pad = np.zeros(N, )\n",
    "        if filter_index<2:\n",
    "            signal_pad[:Nwindow] = signal[time_index*Nwindow:(time_index+1)*Nwindow]*filters[filter_index][\"function\"](Nwindow)\n",
    "        else:\n",
    "            signal_pad[:Nwindow] = signal[time_index*Nwindow:(time_index+1)*Nwindow]*filters[filter_index][\"function\"](Nwindow, 10)\n",
    "        \n",
    "        signal_freq     = np.fft.fft(signal_pad)[:N//2]\n",
    "        signal_freq_max = np.max(np.abs(signal_freq))\n",
    "        signal_freq     = np.abs(signal_freq)/signal_freq_max\n",
    "        time_freq_image[:, time_index] = 20*np.log10(signal_freq)\n",
    "    \n",
    "    \n",
    "    w, h = plt.figaspect(0.4)\n",
    "    plt.figure(figsize=(w, h))\n",
    "    plt.imshow(time_freq_image[::-1, :], cmap=\"gray\", extent=(0, N/fs*1000, 0, fs//2), aspect='auto', clim=(-60, 0))\n",
    "    plt.title(\"time-frequency analysis, {:s} window, window size = {:d}\".format(filters[filter_index][\"name\"], Nwindow))\n",
    "    plt.xlabel(\"time, ms\")\n",
    "    plt.ylabel(\"frequency, Hz\")\n",
    "    plt.show()\n",
    "    \n",
    "interact(sTFT, time_seg=widgets.IntSlider(min=1, max=50,step=1\n",
    "                                          ,value=1), filter_index=widgets.IntSlider(min=0, max=2,step=1,value=0));"
   ]
  },
  {
   "cell_type": "code",
   "execution_count": null,
   "id": "3f595b0f",
   "metadata": {},
   "outputs": [],
   "source": []
  }
 ],
 "metadata": {
  "kernelspec": {
   "display_name": "machine_learning",
   "language": "python",
   "name": "python3"
  },
  "language_info": {
   "codemirror_mode": {
    "name": "ipython",
    "version": 3
   },
   "file_extension": ".py",
   "mimetype": "text/x-python",
   "name": "python",
   "nbconvert_exporter": "python",
   "pygments_lexer": "ipython3",
   "version": "3.10.16"
  }
 },
 "nbformat": 4,
 "nbformat_minor": 5
}
