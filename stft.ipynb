{
 "cells": [
  {
   "cell_type": "code",
   "execution_count": 64,
   "id": "009c5a91",
   "metadata": {},
   "outputs": [],
   "source": [
    "import pandas as pd\n",
    "import numpy as np\n",
    "import matplotlib.pyplot as plt\n",
    "from ipywidgets import widgets, interact\n",
    "from scipy.signal import freqz\n",
    "%matplotlib inline"
   ]
  },
  {
   "cell_type": "code",
   "execution_count": 65,
   "id": "22c4bddd",
   "metadata": {},
   "outputs": [],
   "source": [
    "audio_data = pd.read_csv(\"audio_features.csv\")\n",
    "metadata_df = pd.read_csv(\"metadata.csv\")\n",
    "all_data = pd.read_csv(\"all_features.csv\")"
   ]
  },
  {
   "cell_type": "code",
   "execution_count": null,
   "id": "732cf493",
   "metadata": {},
   "outputs": [
    {
     "data": {
      "text/html": [
       "<div>\n",
       "<style scoped>\n",
       "    .dataframe tbody tr th:only-of-type {\n",
       "        vertical-align: middle;\n",
       "    }\n",
       "\n",
       "    .dataframe tbody tr th {\n",
       "        vertical-align: top;\n",
       "    }\n",
       "\n",
       "    .dataframe thead th {\n",
       "        text-align: right;\n",
       "    }\n",
       "</style>\n",
       "<table border=\"1\" class=\"dataframe\">\n",
       "  <thead>\n",
       "    <tr style=\"text-align: right;\">\n",
       "      <th></th>\n",
       "      <th>smcAC_case001</th>\n",
       "      <th>smcDC_case001</th>\n",
       "      <th>vib_table_case001</th>\n",
       "      <th>vib_spindle_case001</th>\n",
       "      <th>AE_table_case001</th>\n",
       "      <th>AE_spindle_case001</th>\n",
       "      <th>smcAC_case002</th>\n",
       "      <th>smcDC_case002</th>\n",
       "      <th>vib_table_case002</th>\n",
       "      <th>vib_spindle_case002</th>\n",
       "      <th>...</th>\n",
       "      <th>AE_table_case164</th>\n",
       "      <th>AE_spindle_case164</th>\n",
       "      <th>smcAC_case165</th>\n",
       "      <th>smcDC_case165</th>\n",
       "      <th>vib_table_case165</th>\n",
       "      <th>vib_spindle_case165</th>\n",
       "      <th>AE_table_case165</th>\n",
       "      <th>AE_spindle_case165</th>\n",
       "      <th>smcAC_case166</th>\n",
       "      <th>smcDC_case166</th>\n",
       "    </tr>\n",
       "  </thead>\n",
       "  <tbody>\n",
       "    <tr>\n",
       "      <th>0</th>\n",
       "      <td>-0.017090</td>\n",
       "      <td>0.625000</td>\n",
       "      <td>0.078125</td>\n",
       "      <td>0.314941</td>\n",
       "      <td>0.087280</td>\n",
       "      <td>0.103760</td>\n",
       "      <td>0.307617</td>\n",
       "      <td>0.668945</td>\n",
       "      <td>0.075684</td>\n",
       "      <td>0.301514</td>\n",
       "      <td>...</td>\n",
       "      <td>0.114746</td>\n",
       "      <td>0.139771</td>\n",
       "      <td>0.244141</td>\n",
       "      <td>1.328125</td>\n",
       "      <td>0.063477</td>\n",
       "      <td>0.290527</td>\n",
       "      <td>0.101318</td>\n",
       "      <td>0.117798</td>\n",
       "      <td>-0.205078</td>\n",
       "      <td>1.381836</td>\n",
       "    </tr>\n",
       "    <tr>\n",
       "      <th>1</th>\n",
       "      <td>0.263672</td>\n",
       "      <td>0.810547</td>\n",
       "      <td>0.085449</td>\n",
       "      <td>0.301514</td>\n",
       "      <td>0.098267</td>\n",
       "      <td>0.123291</td>\n",
       "      <td>0.312500</td>\n",
       "      <td>0.678711</td>\n",
       "      <td>0.080566</td>\n",
       "      <td>0.308838</td>\n",
       "      <td>...</td>\n",
       "      <td>0.095215</td>\n",
       "      <td>0.112305</td>\n",
       "      <td>0.244141</td>\n",
       "      <td>1.333008</td>\n",
       "      <td>0.058594</td>\n",
       "      <td>0.279541</td>\n",
       "      <td>0.121460</td>\n",
       "      <td>0.140381</td>\n",
       "      <td>-0.239258</td>\n",
       "      <td>1.386719</td>\n",
       "    </tr>\n",
       "    <tr>\n",
       "      <th>2</th>\n",
       "      <td>0.207520</td>\n",
       "      <td>0.781250</td>\n",
       "      <td>0.078125</td>\n",
       "      <td>0.303955</td>\n",
       "      <td>0.092163</td>\n",
       "      <td>0.104980</td>\n",
       "      <td>0.195312</td>\n",
       "      <td>0.859375</td>\n",
       "      <td>0.078125</td>\n",
       "      <td>0.299072</td>\n",
       "      <td>...</td>\n",
       "      <td>0.101929</td>\n",
       "      <td>0.120239</td>\n",
       "      <td>0.205078</td>\n",
       "      <td>1.333008</td>\n",
       "      <td>0.058594</td>\n",
       "      <td>0.285645</td>\n",
       "      <td>0.122070</td>\n",
       "      <td>0.142822</td>\n",
       "      <td>-0.156250</td>\n",
       "      <td>1.386719</td>\n",
       "    </tr>\n",
       "    <tr>\n",
       "      <th>3</th>\n",
       "      <td>0.302734</td>\n",
       "      <td>0.849609</td>\n",
       "      <td>0.073242</td>\n",
       "      <td>0.300293</td>\n",
       "      <td>0.095215</td>\n",
       "      <td>0.111084</td>\n",
       "      <td>0.187988</td>\n",
       "      <td>1.123047</td>\n",
       "      <td>0.080566</td>\n",
       "      <td>0.306396</td>\n",
       "      <td>...</td>\n",
       "      <td>0.098877</td>\n",
       "      <td>0.118408</td>\n",
       "      <td>0.156250</td>\n",
       "      <td>1.333008</td>\n",
       "      <td>0.063477</td>\n",
       "      <td>0.286865</td>\n",
       "      <td>0.119019</td>\n",
       "      <td>0.139160</td>\n",
       "      <td>0.126953</td>\n",
       "      <td>1.381836</td>\n",
       "    </tr>\n",
       "    <tr>\n",
       "      <th>4</th>\n",
       "      <td>0.239258</td>\n",
       "      <td>1.098633</td>\n",
       "      <td>0.083008</td>\n",
       "      <td>0.299072</td>\n",
       "      <td>0.083008</td>\n",
       "      <td>0.092163</td>\n",
       "      <td>-0.009766</td>\n",
       "      <td>1.166992</td>\n",
       "      <td>0.075684</td>\n",
       "      <td>0.319824</td>\n",
       "      <td>...</td>\n",
       "      <td>0.098877</td>\n",
       "      <td>0.120239</td>\n",
       "      <td>0.048828</td>\n",
       "      <td>1.337891</td>\n",
       "      <td>0.058594</td>\n",
       "      <td>0.286865</td>\n",
       "      <td>0.114136</td>\n",
       "      <td>0.132446</td>\n",
       "      <td>0.200195</td>\n",
       "      <td>1.376953</td>\n",
       "    </tr>\n",
       "  </tbody>\n",
       "</table>\n",
       "<p>5 rows × 992 columns</p>\n",
       "</div>"
      ],
      "text/plain": [
       "   smcAC_case001  smcDC_case001  vib_table_case001  vib_spindle_case001  \\\n",
       "0      -0.017090       0.625000           0.078125             0.314941   \n",
       "1       0.263672       0.810547           0.085449             0.301514   \n",
       "2       0.207520       0.781250           0.078125             0.303955   \n",
       "3       0.302734       0.849609           0.073242             0.300293   \n",
       "4       0.239258       1.098633           0.083008             0.299072   \n",
       "\n",
       "   AE_table_case001  AE_spindle_case001  smcAC_case002  smcDC_case002  \\\n",
       "0          0.087280            0.103760       0.307617       0.668945   \n",
       "1          0.098267            0.123291       0.312500       0.678711   \n",
       "2          0.092163            0.104980       0.195312       0.859375   \n",
       "3          0.095215            0.111084       0.187988       1.123047   \n",
       "4          0.083008            0.092163      -0.009766       1.166992   \n",
       "\n",
       "   vib_table_case002  vib_spindle_case002  ...  AE_table_case164  \\\n",
       "0           0.075684             0.301514  ...          0.114746   \n",
       "1           0.080566             0.308838  ...          0.095215   \n",
       "2           0.078125             0.299072  ...          0.101929   \n",
       "3           0.080566             0.306396  ...          0.098877   \n",
       "4           0.075684             0.319824  ...          0.098877   \n",
       "\n",
       "   AE_spindle_case164  smcAC_case165  smcDC_case165  vib_table_case165  \\\n",
       "0            0.139771       0.244141       1.328125           0.063477   \n",
       "1            0.112305       0.244141       1.333008           0.058594   \n",
       "2            0.120239       0.205078       1.333008           0.058594   \n",
       "3            0.118408       0.156250       1.333008           0.063477   \n",
       "4            0.120239       0.048828       1.337891           0.058594   \n",
       "\n",
       "   vib_spindle_case165  AE_table_case165  AE_spindle_case165  smcAC_case166  \\\n",
       "0             0.290527          0.101318            0.117798      -0.205078   \n",
       "1             0.279541          0.121460            0.140381      -0.239258   \n",
       "2             0.285645          0.122070            0.142822      -0.156250   \n",
       "3             0.286865          0.119019            0.139160       0.126953   \n",
       "4             0.286865          0.114136            0.132446       0.200195   \n",
       "\n",
       "   smcDC_case166  \n",
       "0       1.381836  \n",
       "1       1.386719  \n",
       "2       1.386719  \n",
       "3       1.381836  \n",
       "4       1.376953  \n",
       "\n",
       "[5 rows x 992 columns]"
      ]
     },
     "metadata": {},
     "output_type": "display_data"
    },
    {
     "data": {
      "text/html": [
       "<div>\n",
       "<style scoped>\n",
       "    .dataframe tbody tr th:only-of-type {\n",
       "        vertical-align: middle;\n",
       "    }\n",
       "\n",
       "    .dataframe tbody tr th {\n",
       "        vertical-align: top;\n",
       "    }\n",
       "\n",
       "    .dataframe thead th {\n",
       "        text-align: right;\n",
       "    }\n",
       "</style>\n",
       "<table border=\"1\" class=\"dataframe\">\n",
       "  <thead>\n",
       "    <tr style=\"text-align: right;\">\n",
       "      <th></th>\n",
       "      <th>Unnamed: 0</th>\n",
       "      <th>case</th>\n",
       "      <th>run</th>\n",
       "      <th>VB</th>\n",
       "      <th>time</th>\n",
       "      <th>DOC</th>\n",
       "      <th>feed</th>\n",
       "      <th>material</th>\n",
       "    </tr>\n",
       "  </thead>\n",
       "  <tbody>\n",
       "    <tr>\n",
       "      <th>0</th>\n",
       "      <td>NaN</td>\n",
       "      <td>1.0</td>\n",
       "      <td>1.0</td>\n",
       "      <td>0.0</td>\n",
       "      <td>2.0</td>\n",
       "      <td>1.5</td>\n",
       "      <td>0.5</td>\n",
       "      <td>1.0</td>\n",
       "    </tr>\n",
       "    <tr>\n",
       "      <th>1</th>\n",
       "      <td>NaN</td>\n",
       "      <td>1.0</td>\n",
       "      <td>2.0</td>\n",
       "      <td>NaN</td>\n",
       "      <td>4.0</td>\n",
       "      <td>1.5</td>\n",
       "      <td>0.5</td>\n",
       "      <td>1.0</td>\n",
       "    </tr>\n",
       "    <tr>\n",
       "      <th>2</th>\n",
       "      <td>NaN</td>\n",
       "      <td>1.0</td>\n",
       "      <td>3.0</td>\n",
       "      <td>NaN</td>\n",
       "      <td>6.0</td>\n",
       "      <td>1.5</td>\n",
       "      <td>0.5</td>\n",
       "      <td>1.0</td>\n",
       "    </tr>\n",
       "    <tr>\n",
       "      <th>3</th>\n",
       "      <td>NaN</td>\n",
       "      <td>1.0</td>\n",
       "      <td>4.0</td>\n",
       "      <td>11.0</td>\n",
       "      <td>7.0</td>\n",
       "      <td>1.5</td>\n",
       "      <td>0.5</td>\n",
       "      <td>1.0</td>\n",
       "    </tr>\n",
       "    <tr>\n",
       "      <th>4</th>\n",
       "      <td>NaN</td>\n",
       "      <td>1.0</td>\n",
       "      <td>5.0</td>\n",
       "      <td>NaN</td>\n",
       "      <td>11.0</td>\n",
       "      <td>1.5</td>\n",
       "      <td>0.5</td>\n",
       "      <td>1.0</td>\n",
       "    </tr>\n",
       "  </tbody>\n",
       "</table>\n",
       "</div>"
      ],
      "text/plain": [
       "   Unnamed: 0  case  run    VB  time  DOC  feed  material\n",
       "0         NaN   1.0  1.0   0.0   2.0  1.5   0.5       1.0\n",
       "1         NaN   1.0  2.0   NaN   4.0  1.5   0.5       1.0\n",
       "2         NaN   1.0  3.0   NaN   6.0  1.5   0.5       1.0\n",
       "3         NaN   1.0  4.0  11.0   7.0  1.5   0.5       1.0\n",
       "4         NaN   1.0  5.0   NaN  11.0  1.5   0.5       1.0"
      ]
     },
     "metadata": {},
     "output_type": "display_data"
    }
   ],
   "source": [
    "display(all_data.head())\n",
    "display(metadata_df.head())"
   ]
  },
  {
   "cell_type": "code",
   "execution_count": 69,
   "id": "35401984",
   "metadata": {},
   "outputs": [],
   "source": [
    "signal = audio_data[\"AE_spindle_case001\"] # Choose a signal to analyze"
   ]
  },
  {
   "cell_type": "code",
   "execution_count": 70,
   "id": "ab986074",
   "metadata": {},
   "outputs": [],
   "source": [
    "def sTFT(time_seg, filter_index, case_number, signal_location, category=None):\n",
    "    signal_location_dict = {0: \"spindle\", 1: \"table\"}\n",
    "    loc_str = signal_location_dict[signal_location]\n",
    "    case_str = str(case_number).zfill(3)\n",
    "    signal = audio_data[f\"AE_{loc_str}_case{case_str}\"]\n",
    "    \n",
    "    Nwindow = N // time_seg\n",
    "    time_freq_image = np.zeros((N // 2, time_seg))\n",
    "\n",
    "    for time_index in range(time_seg):\n",
    "        signal_pad = np.zeros(N)\n",
    "        window = filters[filter_index][\"function\"](Nwindow) if filter_index < 2 else filters[filter_index][\"function\"](Nwindow, 10)\n",
    "        segment = signal[time_index * Nwindow:(time_index + 1) * Nwindow] * window\n",
    "        signal_pad[:Nwindow] = segment\n",
    "        signal_freq = np.fft.fft(signal_pad)[:N // 2]\n",
    "        signal_freq_max = np.max(np.abs(signal_freq))\n",
    "        signal_freq = np.abs(signal_freq) / signal_freq_max\n",
    "        time_freq_image[:, time_index] = 20 * np.log10(signal_freq)\n",
    "\n",
    "    w, h = plt.figaspect(0.4)\n",
    "    plt.figure(figsize=(w, h))\n",
    "    plt.imshow(time_freq_image[::-1, :], cmap=\"gray\", extent=(0, N / fs * 1000, 0, fs // 2), aspect='auto', clim=(-60, 0))\n",
    "    \n",
    "    title = f\"Time-Frequency Analysis — Case {case_str} ({loc_str.capitalize()})\"\n",
    "    if category:\n",
    "        title += f\" — {category}\"\n",
    "    \n",
    "    plt.title(title)\n",
    "    plt.xlabel(\"Time (ms)\")\n",
    "    plt.ylabel(\"Frequency (Hz)\")\n",
    "    plt.show()\n"
   ]
  },
  {
   "cell_type": "code",
   "execution_count": 74,
   "id": "ca6deec2",
   "metadata": {},
   "outputs": [],
   "source": [
    "# label_dict"
   ]
  },
  {
   "cell_type": "markdown",
   "id": "77b62a1c",
   "metadata": {},
   "source": [
    "# Analyze STFT of Each Label"
   ]
  },
  {
   "cell_type": "code",
   "execution_count": 75,
   "id": "5c85c577",
   "metadata": {},
   "outputs": [],
   "source": [
    "# bins = [0, 20, 40, 70, 100, 150, 1_000]\n",
    "# labels = [\"Good\", \"Slight\", \"Average\", \"Heavy\", \"Severe\", \"Failure\"]\n",
    "\n",
    "# labels = pd.cut(metadata_df[\"VB\"], bins=bins, labels=labels)\n",
    "# # print(labels.unique()) # Shows that all labels appear in the dataset\n",
    "# # labels"
   ]
  },
  {
   "cell_type": "code",
   "execution_count": 77,
   "id": "3f595b0f",
   "metadata": {},
   "outputs": [
    {
     "data": {
      "text/plain": [
       "{'Good': Index([  4,   6,  18,  19,  20,  21,  22,  24,  33,  34,  35,  36,  37,  46,\n",
       "         47,  48,  54,  55,  56,  63,  64,  65,  73,  74,  75,  76,  77,  79,\n",
       "         80,  81,  82,  96,  97,  99, 100, 101, 111, 118, 119, 126, 133, 134,\n",
       "        135, 147, 148, 156],\n",
       "       dtype='int64'),\n",
       " 'Slight': Index([  7,   8,   9,  10,  11,  12,  25,  26,  27,  28,  38,  39,  40,  41,\n",
       "         42,  43,  49,  50,  51,  57,  58,  66,  67,  83,  84,  86,  87, 102,\n",
       "        103, 105, 112, 120, 121, 122, 127, 136, 137, 149, 151, 157, 158, 164,\n",
       "        166],\n",
       "       dtype='int64'),\n",
       " 'Average': Index([ 13,  14,  15,  17,  29,  30,  31,  44,  45,  52,  59,  60,  68,  69,\n",
       "         70,  71,  89,  90,  91,  92,  93, 106, 107, 108, 109, 113, 114, 123,\n",
       "        129, 130, 138, 139, 140, 152, 159, 160, 161, 167],\n",
       "       dtype='int64'),\n",
       " 'Heavy': Index([61, 94, 115, 141, 142, 153], dtype='int64'),\n",
       " 'Severe': Index([143, 144, 154], dtype='int64'),\n",
       " 'Failure': Index([145], dtype='int64')}"
      ]
     },
     "execution_count": 77,
     "metadata": {},
     "output_type": "execute_result"
    }
   ],
   "source": [
    "\n",
    "bins = [0, 20, 40, 70, 100, 150, 1_000]\n",
    "labels = [\"Good\", \"Slight\", \"Average\", \"Heavy\", \"Severe\", \"Failure\"]\n",
    "\n",
    "labels = pd.cut(metadata_df[\"VB\"], bins=bins, labels=labels)\n",
    "# Remove case 166 and 167 since no data for them\n",
    "\n",
    "label_dict = {\"Good\": [], \"Slight\": [], \"Average\": [], \"Heavy\": [], \"Severe\": [], \"Failure\": []}\n",
    "\n",
    "for label in label_dict:\n",
    "    label_dict[label] = labels[labels==label].index + 1\n",
    "    \n",
    "\n",
    "label_dict"
   ]
  },
  {
   "cell_type": "code",
   "execution_count": 90,
   "id": "e39d854e",
   "metadata": {},
   "outputs": [],
   "source": [
    "# from ipywidgets import interact, Dropdown, IntSlider\n",
    "# import matplotlib.pyplot as plt\n",
    "# import numpy as np\n",
    "# from IPython.display import display\n",
    "\n",
    "\n",
    "# def sTFT(time_seg, filter_index, case_number, signal_location, category):\n",
    "#     signal_location_dict = {0: \"spindle\", 1: \"table\"}\n",
    "#     loc_str = signal_location_dict[signal_location]\n",
    "#     case_str = str(case_number).zfill(3)\n",
    "#     col_name = f\"AE_{loc_str}_case{case_str}\"\n",
    "\n",
    "#     case_metadata = metadata_df.loc[case_number-1]\n",
    "    \n",
    "#     time = case_metadata[\"time\"]\n",
    "#     doc = case_metadata[\"DOC\"] # DOC: Depth of Cut\n",
    "\n",
    "#     print(doc)\n",
    "\n",
    "#     feed = case_metadata[\"feed\"]\t\n",
    "#     material = case_metadata[\"material\"]\n",
    "    \n",
    "#     if col_name not in audio_data.columns:\n",
    "#         print(f\"{col_name} not found in data.\")\n",
    "#         return\n",
    "    \n",
    "#     signal = audio_data[col_name].values\n",
    "#     N = len(signal)\n",
    "#     Nwindow = N // time_seg\n",
    "#     time_freq_image = np.zeros((N // 2, time_seg))\n",
    "\n",
    "#     for time_index in range(time_seg):\n",
    "#         signal_pad = np.zeros(N)\n",
    "#         if filter_index < 2:\n",
    "#             window = filters[filter_index][\"function\"](Nwindow)\n",
    "#         else:\n",
    "#             window = filters[filter_index][\"function\"](Nwindow, 10)\n",
    "#         segment = signal[time_index * Nwindow:(time_index + 1) * Nwindow] * window\n",
    "#         signal_pad[:Nwindow] = segment\n",
    "#         signal_freq = np.fft.fft(signal_pad)[:N // 2]\n",
    "#         signal_freq_max = np.max(np.abs(signal_freq))\n",
    "#         signal_freq = np.abs(signal_freq) / signal_freq_max\n",
    "#         time_freq_image[:, time_index] = 20 * np.log10(signal_freq)\n",
    "\n",
    "#     w, h = plt.figaspect(0.4)\n",
    "#     plt.figure(figsize=(w, h))\n",
    "#     plt.imshow(time_freq_image[::-1, :], cmap=\"gray\", extent=(0, N / fs * 1000, 0, fs // 2), aspect='auto', clim=(-60, 0))\n",
    "#     plt.title(f\"{category} — Case {case_str} ({loc_str}) {filters[filter_index]['name']} window, window size = {Nwindow}, time = {time}, doc = {doc}, feed = {feed}, material = {material}\")\n",
    "#     plt.xlabel(\"Time (ms)\")\n",
    "#     plt.ylabel(\"Frequency (Hz)\")\n",
    "#     plt.show()\n",
    "\n",
    "\n",
    "# def create_category_plotter(category_name, labels_dict):\n",
    "#     valid_cases = sorted(labels_dict[category_name])\n",
    "#     interact(\n",
    "#         sTFT,\n",
    "#         time_seg=IntSlider(min=1, max=50, step=1, value=10),\n",
    "#         filter_index=IntSlider(min=0, max=2, step=1, value=0),\n",
    "#         case_number=Dropdown(options=valid_cases, description=\"Case #\"),\n",
    "#         signal_location=IntSlider(min=0, max=1, step=1, value=0),\n",
    "#         category=widgets.fixed(category_name)\n",
    "#     )\n",
    "\n",
    "# # Create one interactive plotter per category\n",
    "# for category in label_dict.keys():\n",
    "#     print(f\"\\n⏬ {category} category visualization\")\n",
    "#     create_category_plotter(category, label_dict)"
   ]
  },
  {
   "cell_type": "markdown",
   "id": "3b6769b6",
   "metadata": {},
   "source": [
    "Important Notes: <br>\n",
    "* There are 2 different speeds.\n",
    "* There are 2 different cutting materials."
   ]
  },
  {
   "cell_type": "code",
   "execution_count": 91,
   "id": "b454342c",
   "metadata": {},
   "outputs": [
    {
     "name": "stdout",
     "output_type": "stream",
     "text": [
      "[[  0.           0.        ]\n",
      " [ -0.83860648   0.        ]\n",
      " [ -3.38120735   0.        ]\n",
      " ...\n",
      " [-61.98040542   0.        ]\n",
      " [-61.66986878   0.        ]\n",
      " [-61.12425159   0.        ]]\n",
      "[[  0.           0.        ]\n",
      " [ -0.83860648  -0.90164208]\n",
      " [ -3.38120735  -3.65451356]\n",
      " ...\n",
      " [-61.98040542 -65.66571249]\n",
      " [-61.66986878 -69.86007702]\n",
      " [-61.12425159 -73.54143617]]\n"
     ]
    }
   ],
   "source": [
    "col_name = \"AE_table_case001\"\n",
    "time_seg = 2\n",
    "filter_index = 2\n",
    "signal = audio_data[col_name].values\n",
    "N = len(signal)\n",
    "Nwindow = N // time_seg\n",
    "time_freq_image = np.zeros((N // 2, time_seg))\n",
    "\n",
    "spectrums = []\n",
    "\n",
    "for time_index in range(time_seg):\n",
    "    signal_pad = np.zeros(N)\n",
    "    if filter_index < 2:\n",
    "        window = filters[filter_index][\"function\"](Nwindow)\n",
    "    else:\n",
    "        window = filters[filter_index][\"function\"](Nwindow, 10)\n",
    "    segment = signal[time_index * Nwindow:(time_index + 1) * Nwindow] * window\n",
    "    signal_pad[:Nwindow] = segment\n",
    "    signal_freq = np.fft.fft(signal_pad)[:N // 2]\n",
    "    signal_freq_max = np.max(np.abs(signal_freq))\n",
    "    signal_freq = np.abs(signal_freq) / signal_freq_max\n",
    "    time_freq_image[:, time_index] = 20 * np.log10(signal_freq)\n",
    "\n",
    "    print(time_freq_image)"
   ]
  },
  {
   "cell_type": "code",
   "execution_count": 92,
   "id": "c4e49bc4",
   "metadata": {},
   "outputs": [],
   "source": [
    "def sTFT(time_seg, filter_index, case_number, sensor_type, category):\n",
    "    case_str = str(case_number).zfill(3)\n",
    "    col_name = f\"{sensor_type}_case{case_str}\"\n",
    "\n",
    "    case_metadata = metadata_df.loc[case_number - 1]\n",
    "    time = case_metadata[\"time\"]\n",
    "    doc = case_metadata[\"DOC\"]\n",
    "    feed = case_metadata[\"feed\"]\n",
    "    material = case_metadata[\"material\"]\n",
    "\n",
    "    if col_name not in all_data.columns:\n",
    "        print(f\"{col_name} not found in data.\")\n",
    "        return\n",
    "\n",
    "    signal = all_data[col_name].values\n",
    "    N = len(signal)\n",
    "    Nwindow = N // time_seg\n",
    "    time_freq_image = np.zeros((N // 2, time_seg))\n",
    "\n",
    "    for time_index in range(time_seg):\n",
    "        signal_pad = np.zeros(N)\n",
    "        if filter_index < 2:\n",
    "            window = filters[filter_index][\"function\"](Nwindow)\n",
    "        else:\n",
    "            window = filters[filter_index][\"function\"](Nwindow, 10)\n",
    "        segment = signal[time_index * Nwindow:(time_index + 1) * Nwindow] * window\n",
    "        signal_pad[:Nwindow] = segment\n",
    "        signal_freq = np.fft.fft(signal_pad)[:N // 2]\n",
    "        signal_freq_max = np.max(np.abs(signal_freq))\n",
    "        signal_freq = np.abs(signal_freq) / signal_freq_max\n",
    "        time_freq_image[:, time_index] = 20 * np.log10(signal_freq)\n",
    "\n",
    "    w, h = plt.figaspect(0.4)\n",
    "    plt.figure(figsize=(w, h))\n",
    "    plt.imshow(time_freq_image[::-1, :], cmap=\"gray\", extent=(0, N / fs * 1000, 0, fs // 2), aspect='auto', clim=(-60, 0))\n",
    "    plt.title(f\"{category} — Case {case_str} ({sensor_type}) {filters[filter_index]['name']} window, window size = {Nwindow}, time = {time}, doc = {doc}, feed = {feed}, material = {material}\")\n",
    "    plt.xlabel(\"Time (ms)\")\n",
    "    plt.ylabel(\"Frequency (Hz)\")\n",
    "    plt.show()"
   ]
  },
  {
   "cell_type": "code",
   "execution_count": 93,
   "id": "fd96eae7",
   "metadata": {},
   "outputs": [
    {
     "name": "stdout",
     "output_type": "stream",
     "text": [
      "\n",
      "⏬ Good category visualization\n"
     ]
    },
    {
     "data": {
      "application/vnd.jupyter.widget-view+json": {
       "model_id": "cba08dc1ca84466cbb2301acd5acc368",
       "version_major": 2,
       "version_minor": 0
      },
      "text/plain": [
       "interactive(children=(IntSlider(value=10, description='time_seg', max=50, min=1), IntSlider(value=0, descripti…"
      ]
     },
     "metadata": {},
     "output_type": "display_data"
    },
    {
     "name": "stdout",
     "output_type": "stream",
     "text": [
      "\n",
      "⏬ Slight category visualization\n"
     ]
    },
    {
     "data": {
      "application/vnd.jupyter.widget-view+json": {
       "model_id": "c714282e3aa2406cbd453948957ddafb",
       "version_major": 2,
       "version_minor": 0
      },
      "text/plain": [
       "interactive(children=(IntSlider(value=10, description='time_seg', max=50, min=1), IntSlider(value=0, descripti…"
      ]
     },
     "metadata": {},
     "output_type": "display_data"
    },
    {
     "name": "stdout",
     "output_type": "stream",
     "text": [
      "\n",
      "⏬ Average category visualization\n"
     ]
    },
    {
     "data": {
      "application/vnd.jupyter.widget-view+json": {
       "model_id": "51b292b945634f55846cb9cdce2c56d3",
       "version_major": 2,
       "version_minor": 0
      },
      "text/plain": [
       "interactive(children=(IntSlider(value=10, description='time_seg', max=50, min=1), IntSlider(value=0, descripti…"
      ]
     },
     "metadata": {},
     "output_type": "display_data"
    },
    {
     "name": "stdout",
     "output_type": "stream",
     "text": [
      "\n",
      "⏬ Heavy category visualization\n"
     ]
    },
    {
     "data": {
      "application/vnd.jupyter.widget-view+json": {
       "model_id": "8eb47f9d2bf84903abb1833de1f4506e",
       "version_major": 2,
       "version_minor": 0
      },
      "text/plain": [
       "interactive(children=(IntSlider(value=10, description='time_seg', max=50, min=1), IntSlider(value=0, descripti…"
      ]
     },
     "metadata": {},
     "output_type": "display_data"
    },
    {
     "name": "stdout",
     "output_type": "stream",
     "text": [
      "\n",
      "⏬ Severe category visualization\n"
     ]
    },
    {
     "data": {
      "application/vnd.jupyter.widget-view+json": {
       "model_id": "bc466401f9f84037aecc1e6ab35b815d",
       "version_major": 2,
       "version_minor": 0
      },
      "text/plain": [
       "interactive(children=(IntSlider(value=10, description='time_seg', max=50, min=1), IntSlider(value=0, descripti…"
      ]
     },
     "metadata": {},
     "output_type": "display_data"
    },
    {
     "name": "stdout",
     "output_type": "stream",
     "text": [
      "\n",
      "⏬ Failure category visualization\n"
     ]
    },
    {
     "data": {
      "application/vnd.jupyter.widget-view+json": {
       "model_id": "674371ed37de4da38dcf99fe1478ddad",
       "version_major": 2,
       "version_minor": 0
      },
      "text/plain": [
       "interactive(children=(IntSlider(value=10, description='time_seg', max=50, min=1), IntSlider(value=0, descripti…"
      ]
     },
     "metadata": {},
     "output_type": "display_data"
    }
   ],
   "source": [
    "def create_category_plotter(category_name, labels_dict):\n",
    "    valid_cases = sorted(labels_dict[category_name])\n",
    "    sensor_options = [\"AE_spindle\", \"AE_table\", \"vib_spindle\", \"vib_table\", \"smcAC\", \"smcDC\"]\n",
    "    \n",
    "    interact(\n",
    "        sTFT,\n",
    "        time_seg=IntSlider(min=1, max=50, step=1, value=10),\n",
    "        filter_index=IntSlider(min=0, max=2, step=1, value=0),\n",
    "        case_number=Dropdown(options=valid_cases, description=\"Case #\"),\n",
    "        sensor_type=Dropdown(options=sensor_options, description=\"Sensor\"),\n",
    "        category=widgets.fixed(category_name)\n",
    "    )\n",
    "\n",
    "# Create one interactive plotter per category\n",
    "for category in label_dict.keys():\n",
    "    print(f\"\\n⏬ {category} category visualization\")\n",
    "    create_category_plotter(category, label_dict)"
   ]
  },
  {
   "cell_type": "code",
   "execution_count": null,
   "id": "fab779dc",
   "metadata": {},
   "outputs": [],
   "source": []
  }
 ],
 "metadata": {
  "kernelspec": {
   "display_name": "machine_learning",
   "language": "python",
   "name": "python3"
  },
  "language_info": {
   "codemirror_mode": {
    "name": "ipython",
    "version": 3
   },
   "file_extension": ".py",
   "mimetype": "text/x-python",
   "name": "python",
   "nbconvert_exporter": "python",
   "pygments_lexer": "ipython3",
   "version": "3.10.16"
  }
 },
 "nbformat": 4,
 "nbformat_minor": 5
}
